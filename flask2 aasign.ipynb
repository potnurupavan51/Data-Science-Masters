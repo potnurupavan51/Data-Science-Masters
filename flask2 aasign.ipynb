{
 "cells": [
  {
   "cell_type": "markdown",
   "id": "045bfb25-0f64-4b8e-aa59-7b2ba9d4f1a4",
   "metadata": {},
   "source": [
    "## Q1. Explain GET and POST methods."
   ]
  },
  {
   "cell_type": "markdown",
   "id": "cd91af2e-6963-4a39-a43a-0e3787989e73",
   "metadata": {},
   "source": [
    "GET method is used to send the data using the link where the post method is used to send the method using the body of the code of interface.Where the both have the same approach of sending the data to the main code to utilize."
   ]
  },
  {
   "cell_type": "markdown",
   "id": "541ff50e-08a2-4636-b4af-6dba1103a966",
   "metadata": {},
   "source": [
    "##  Q2. Why is request used in Flask?"
   ]
  },
  {
   "cell_type": "markdown",
   "id": "21a25cd3-dfe2-47b1-8344-d668abb560d4",
   "metadata": {},
   "source": [
    "The purpose of usage of the request in the flask is to take the data from the user.\n",
    "Using the request we can take the data from the user and use it for processing , and the data that was taken using request is given by user where it has a more chance of varities."
   ]
  },
  {
   "cell_type": "markdown",
   "id": "706ec686-0e51-4327-9be9-ba219d594f6a",
   "metadata": {},
   "source": [
    "## Q3. Why is redirect() used in Flask?"
   ]
  },
  {
   "cell_type": "markdown",
   "id": "dfd331c6-e0bf-48fa-aa38-b76f77d4d3b7",
   "metadata": {},
   "source": [
    "It returns a response object and redirects the user to another target location with specified status code.\n",
    "It used to relocate the location of one page to the another page or function."
   ]
  },
  {
   "cell_type": "markdown",
   "id": "4bc66d1f-7c99-4021-b6d2-8b2bdbf5cad0",
   "metadata": {},
   "source": [
    "## Q4. What are templates in Flask? Why is the render_template() function used?"
   ]
  },
  {
   "cell_type": "markdown",
   "id": "623f2630-e56d-4e2e-9cf1-f0fe213996c4",
   "metadata": {},
   "source": [
    "template are used in Flask to display the result.A template is rendered with specific data to produce a final document."
   ]
  },
  {
   "cell_type": "markdown",
   "id": "4ecf03c0-b79c-4a9e-8218-216a523c711c",
   "metadata": {},
   "source": [
    "## Q5. Create a simple API. Use Postman to test it. Attach the screenshot of the output in the Jupyter Notebook."
   ]
  },
  {
   "cell_type": "code",
   "execution_count": null,
   "id": "677eafdd-895c-490a-807a-f2a85a476424",
   "metadata": {},
   "outputs": [
    {
     "name": "stdout",
     "output_type": "stream",
     "text": [
      " * Serving Flask app '__main__'\n",
      " * Debug mode: off\n"
     ]
    },
    {
     "name": "stderr",
     "output_type": "stream",
     "text": [
      "WARNING: This is a development server. Do not use it in a production deployment. Use a production WSGI server instead.\n",
      " * Running on all addresses (0.0.0.0)\n",
      " * Running on http://127.0.0.1:5000\n",
      " * Running on http://172.18.0.14:5000\n",
      "Press CTRL+C to quit\n",
      "172.18.0.2 - - [26/Jan/2024 07:49:56] \"POST /postman_data HTTP/1.1\" 200 -\n"
     ]
    }
   ],
   "source": [
    "from flask import Flask,request,jsonify\n",
    "\n",
    "app=Flask(__name__)\n",
    "\n",
    "@app.route(\"/postman_data\",methods =['POST'])\n",
    "def math_operation():\n",
    "    if request.method =='POST':\n",
    "        ops=request.json['operation']\n",
    "        num1=int(request.json['num1'])\n",
    "        num2=int(request.json['num2'])\n",
    "        if(ops == \"add\"):\n",
    "            r=num1+num2\n",
    "    return jsonify(r)\n",
    "    \n",
    "if __name__==\"__main__\":\n",
    "    app.run(host=\"0.0.0.0\")"
   ]
  },
  {
   "cell_type": "markdown",
   "id": "0af25b1d-f062-463c-9cf8-0f512a5c20f6",
   "metadata": {},
   "source": [
    "https://orange-translator-uqggc.pwskills.app/files/work/postan.png?_xsrf=2%7Cd6d3a1fd%7C5320d952a18c8e96219eb1cf5c8275e9%7C1705732092"
   ]
  },
  {
   "cell_type": "code",
   "execution_count": null,
   "id": "00d929f5-b607-4560-a7fd-c219d303aaf1",
   "metadata": {},
   "outputs": [],
   "source": []
  }
 ],
 "metadata": {
  "kernelspec": {
   "display_name": "Python 3 (ipykernel)",
   "language": "python",
   "name": "python3"
  },
  "language_info": {
   "codemirror_mode": {
    "name": "ipython",
    "version": 3
   },
   "file_extension": ".py",
   "mimetype": "text/x-python",
   "name": "python",
   "nbconvert_exporter": "python",
   "pygments_lexer": "ipython3",
   "version": "3.10.8"
  }
 },
 "nbformat": 4,
 "nbformat_minor": 5
}
