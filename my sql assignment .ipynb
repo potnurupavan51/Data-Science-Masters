{
 "cells": [
  {
   "cell_type": "markdown",
   "id": "d8cdf35c-122c-438a-a15e-cfce2c939b7d",
   "metadata": {},
   "source": [
    "## Q1. What is a database? Differentiate between SQL and NoSQL databases."
   ]
  },
  {
   "cell_type": "markdown",
   "id": "3da357d5-702b-4039-993a-f5d11e0a0151",
   "metadata": {},
   "source": [
    "A Database is a process of organizing and storing of data which we can retrive it further for our use using query is called database. \n",
    "SQL database is a structured data where NOSQL is the unstructured data."
   ]
  },
  {
   "cell_type": "markdown",
   "id": "2778ba3f-49fe-4444-8ec1-711e11d389b8",
   "metadata": {},
   "source": [
    "# Q2. What is DDL? Explain why CREATE, DROP, ALTER, and TRUNCATE are used with an example."
   ]
  },
  {
   "cell_type": "markdown",
   "id": "a3d22e5c-839e-4222-a9e0-2a5120ddded6",
   "metadata": {},
   "source": [
    "DDL is a Data Definition Language. It is used in database to create , delete , edit the tables in the database , these can be achieved by using the keywords like CREATE,ALTER,DROP and TRUNCATE.\n",
    "\n",
    "CREATE : It is used to create new table in the database.\n",
    "ex: CREATE TABLE table_name;\n",
    "\n",
    "DROP : It is used in database to delete the tables.\n",
    "ex: table_name.drop()\n",
    "\n",
    "ALTER : It is used in database to modity the tables schema.\n",
    "ex: ALTER TABLE table_name\n",
    "    ADD COLUMN new_column_name data_type;\n",
    "    \n",
    "TRUNCATE : The TRUNCATE statement is used in SQL to quickly and efficiently remove all rows from a table, but it retains the structure of the table for future use.\n",
    "ex:TRUNCATE TABLE table_name;\n",
    "\n"
   ]
  },
  {
   "cell_type": "markdown",
   "id": "e3050d16-eb1d-445a-b34a-c453f8b0e853",
   "metadata": {},
   "source": [
    "## Q3. What is DML? Explain INSERT, UPDATE, and DELETE with an example."
   ]
  },
  {
   "cell_type": "markdown",
   "id": "1314668b-7773-45ba-a4a7-4ab1ffc592c5",
   "metadata": {},
   "source": [
    "DML is a Data Manipulation Language. It is used to modify the data containing in the database's tables.\n",
    "\n",
    "INSERT : it is keyword used to insert the data into the table.\n",
    "ex: INSERT INTO table_name values(column_name datatype,....);\n",
    "\n",
    "UPDATE : It is a keyword used in DML of table to modity content present in the table.\n",
    "ex :\n",
    "UPDATE table_name\n",
    "SET column1 = value1, column2 = value2, ...\n",
    "WHERE condition;\n",
    "\n",
    "DELETE : It is keyword used in DML to delete data in table.\n",
    "ex: DELETE FROM table_name\n",
    "WHERE condition;\n"
   ]
  },
  {
   "cell_type": "markdown",
   "id": "42804837-9288-4104-8082-505846e4c6e9",
   "metadata": {},
   "source": [
    "## What is DQL? Explain SELECT with an example."
   ]
  },
  {
   "cell_type": "markdown",
   "id": "6496bde3-3b51-42de-a444-55f23fd83282",
   "metadata": {},
   "source": [
    "DQL is the Data query Language .\n",
    "DQL is often used to refer to the subset of SQL (Structured Query Language) that specifically deals with querying and retrieving data from a database.\n",
    "ex :SELECT * FROM table_name;"
   ]
  },
  {
   "cell_type": "markdown",
   "id": "f2d851fd-3c66-404b-b7f4-4e36a017bcc2",
   "metadata": {},
   "source": [
    "## Explain Primary Key and Foreign Key."
   ]
  },
  {
   "cell_type": "markdown",
   "id": "caead9b1-2a43-4df7-aa48-ed7bd076baa9",
   "metadata": {},
   "source": [
    "Primary key is the key that used to uniquely identify the record in the table. It is assigned with the uniquely defineable characters.These are assigned or searched column wise.\n",
    "\n",
    "Foreign key is the key that is used to uniquely identify the record in the table as well as establish a relation among the tables in the database."
   ]
  },
  {
   "cell_type": "markdown",
   "id": "0c8238eb-1860-4764-b660-3c4533611aff",
   "metadata": {},
   "source": [
    "## Write a python code to connect MySQL to python. Explain the cursor() and execute() method."
   ]
  },
  {
   "cell_type": "markdown",
   "id": "0b1ce484-e3fa-4b57-85bb-83d3f02224da",
   "metadata": {},
   "source": [
    "\n",
    "import mysql.connector\n",
    "mydb=mqsql.connector.connect(\n",
    "    host=\"localhost\",\n",
    "    user=\"user-id\",\n",
    "    password=\"password\"\n",
    ")\n"
   ]
  },
  {
   "cell_type": "markdown",
   "id": "cb3fff10-440f-43c6-9cb9-73b2e14d22a6",
   "metadata": {},
   "source": [
    "cursor in Database management used for traversal and manipulation of the records in the set of rows.These are certainly used for handling the queries.\n",
    "\n",
    "execute(): In the context of databases, the term \"execute method\" is often associated with executing SQL statements or queries. The exact syntax and usage can vary depending on the database management system (DBMS) and the programming language or environment you are working with"
   ]
  },
  {
   "cell_type": "markdown",
   "id": "60148ab6-8873-4733-92d2-967b6aa71d26",
   "metadata": {
    "tags": []
   },
   "source": [
    "## Give the order of execution of SQL clauses in an SQL query."
   ]
  },
  {
   "cell_type": "markdown",
   "id": "ee6a3414-f111-4efd-92f3-769b75e946ec",
   "metadata": {},
   "source": [
    "The order of execution of SQL clauses in a SQL query generally follows a logical sequence, though it's important to note that the actual execution may be optimized by the database engine. Here is a general order of execution for the main clauses in a SELECT statement:\n",
    "\n",
    "FROM Clause:\n",
    "\n",
    "The FROM clause specifies the table or tables from which the data is retrieved.\n",
    "JOIN Clause:\n",
    "\n",
    "If there are any JOIN operations specified in the query, they are performed to combine rows from different tables based on the specified conditions.\n",
    "WHERE Clause:\n",
    "\n",
    "The WHERE clause filters the rows based on a specified condition or set of conditions.\n",
    "GROUP BY Clause:\n",
    "\n",
    "If there is a GROUP BY clause, the rows are grouped based on the specified columns.\n",
    "HAVING Clause:\n",
    "\n",
    "The HAVING clause filters the grouped rows based on a specified condition or set of conditions.\n",
    "SELECT Clause:\n",
    "\n",
    "The SELECT clause specifies the columns to be included in the result set and may include expressions or functions.\n",
    "DISTINCT Clause:"
   ]
  },
  {
   "cell_type": "code",
   "execution_count": null,
   "id": "46f276d6-2f2d-4542-b085-7658f87ab405",
   "metadata": {},
   "outputs": [],
   "source": []
  }
 ],
 "metadata": {
  "kernelspec": {
   "display_name": "Python 3 (ipykernel)",
   "language": "python",
   "name": "python3"
  },
  "language_info": {
   "codemirror_mode": {
    "name": "ipython",
    "version": 3
   },
   "file_extension": ".py",
   "mimetype": "text/x-python",
   "name": "python",
   "nbconvert_exporter": "python",
   "pygments_lexer": "ipython3",
   "version": "3.10.8"
  }
 },
 "nbformat": 4,
 "nbformat_minor": 5
}
