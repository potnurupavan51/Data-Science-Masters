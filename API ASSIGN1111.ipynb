{
 "cells": [
  {
   "cell_type": "markdown",
   "id": "3ba80557-58a3-4a9e-a477-2650ba0717c7",
   "metadata": {},
   "source": [
    "## What is an API? Give an example, where an API is used in real life."
   ]
  },
  {
   "cell_type": "markdown",
   "id": "0cc1bd16-9615-48b5-a856-3858d3feb6ae",
   "metadata": {},
   "source": [
    "API means Application Programming Language. It is used to connect or acts as a medium to use the function of one programming language in another.\n",
    "It is like a platform wherein one program can be run with help of two different programming languages.\n",
    "use APIs to connect user-facing front ends with all-important back-end functionality and data\n",
    "exaple: Google maps, E-commerce website etc. \n",
    "In real life we might use it in the G-pay for money transfer as it utlities the features of the API."
   ]
  },
  {
   "cell_type": "markdown",
   "id": "55b5cfd6-516b-4bbd-8ef4-e8490da23ff0",
   "metadata": {},
   "source": [
    "## Give advantages and disadvantages of using API."
   ]
  },
  {
   "cell_type": "markdown",
   "id": "aeba4dfd-b95e-4904-9e57-4f35f05635a8",
   "metadata": {},
   "source": [
    "Adventages:\n",
    "* we can connect multiple flatforms\n",
    "* we can utilite the function of different programming language in different programming language.\n",
    "* exchange of data and functionalites is easy.\n",
    "\n",
    "Disadvantages:\n",
    "* latency \n",
    "* cost\n",
    "* complexity\n",
    "    "
   ]
  },
  {
   "cell_type": "markdown",
   "id": "529d4469-3b1e-4af2-b690-4c0f5e98d878",
   "metadata": {},
   "source": [
    "## What is a Web API? Differentiate between API and Web API."
   ]
  },
  {
   "cell_type": "markdown",
   "id": "bb82cd4d-fc96-4dba-8c76-d518b37b9d75",
   "metadata": {},
   "source": [
    "Web API is a sub-set of API. \n",
    "API is used to expose the functionalites of a program to the outer world. whereas the WEB API is used to expose the functionalies in webpages and websites.So, as early it told it is a sub-set of API.\n"
   ]
  },
  {
   "cell_type": "markdown",
   "id": "f514e089-6a0e-4dd4-b6f0-7ea15eb81df9",
   "metadata": {},
   "source": [
    "## Explain REST and SOAP Architecture. Mention shortcomings of SOAP."
   ]
  },
  {
   "cell_type": "markdown",
   "id": "7ac35bc3-5caf-46bf-a4b6-28618558eddb",
   "metadata": {},
   "source": [
    "REST API is Representational State Transfer Application Programming Interface.\n",
    "The key principles of REST APIs include statelessness, uniform interface, client-server architecture,etc.\n",
    "REST api uses HTTP protocol for the transfer of data. Where as the SOAP api use the SMTP(simple mail transfer Protocol) for the transfer of data.\n",
    "Simple Object Access Protocol(SMTP) is used in SOAP API.\n",
    "REST API is , Less security, not suitable for distributed environments.\n",
    "SOAP API is Poorer performance, more complexity, less flexibility."
   ]
  },
  {
   "cell_type": "markdown",
   "id": "16991e25-8e98-4e2c-b9e3-67efe2678808",
   "metadata": {},
   "source": [
    "## Differentiate between REST and SOAP."
   ]
  },
  {
   "cell_type": "markdown",
   "id": "0bd301c7-026c-4bbe-970e-be1b4622bdf7",
   "metadata": {},
   "source": [
    "REST API is Representational State Transfer Application Programming Interface.\n",
    "The key principles of REST APIs include statelessness, uniform interface, client-server architecture,etc.\n",
    "REST api uses HTTP protocol for the transfer of data. Where as the SOAP api use the SMTP(simple mail transfer Protocol) for the transfer of data.\n",
    "Simple Object Access Protocol(SMTP) is used in SOAP API.\n",
    "REST API is , Less security, not suitable for distributed environments.\n",
    "SOAP API is Poorer performance, more complexity, less flexibility."
   ]
  }
 ],
 "metadata": {
  "kernelspec": {
   "display_name": "Python 3 (ipykernel)",
   "language": "python",
   "name": "python3"
  },
  "language_info": {
   "codemirror_mode": {
    "name": "ipython",
    "version": 3
   },
   "file_extension": ".py",
   "mimetype": "text/x-python",
   "name": "python",
   "nbconvert_exporter": "python",
   "pygments_lexer": "ipython3",
   "version": "3.10.8"
  }
 },
 "nbformat": 4,
 "nbformat_minor": 5
}
