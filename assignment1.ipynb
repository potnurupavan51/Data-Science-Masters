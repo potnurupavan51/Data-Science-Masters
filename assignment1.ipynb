{
 "cells": [
  {
   "cell_type": "markdown",
   "id": "e3e42386-5c42-4ba4-9fc9-85d80f41ef13",
   "metadata": {},
   "source": [
    "#### Q1. Create one variable containing following type of data:\n",
    "\n",
    "(i)\tstring\n",
    "\n",
    "(ii)\tlist\n",
    "\n",
    "(iii)\tfloat\n",
    "\n",
    "(iv)\ttuple"
   ]
  },
  {
   "cell_type": "code",
   "execution_count": 1,
   "id": "b19d250c-cc97-4226-8039-3863488d26d7",
   "metadata": {},
   "outputs": [
    {
     "data": {
      "text/plain": [
       "tuple"
      ]
     },
     "execution_count": 1,
     "metadata": {},
     "output_type": "execute_result"
    }
   ],
   "source": [
    "s=\"\"\n",
    "l=[]\n",
    "f=0.0\n",
    "t=()\n",
    "type(s)\n",
    "type(l)\n",
    "type(f)\n",
    "type(t)\n"
   ]
  },
  {
   "cell_type": "markdown",
   "id": "b1d1a717-5900-40c8-92ce-142d36202ef8",
   "metadata": {},
   "source": [
    "#### Q2. Given are some following variables containing data:\n",
    "\n",
    "(i)\tvar1 = ‘ ‘\n",
    "\n",
    "(ii)\tvar2 = ‘[ DS , ML , Python]’\n",
    "\n",
    "(iii)\tvar3 = [ ‘DS’ , ’ML’ , ‘Python’ ]\n",
    "\n",
    "(iv)\tvar4 = 1.\n",
    "\n"
   ]
  },
  {
   "cell_type": "code",
   "execution_count": 5,
   "id": "e28eab10-25c2-4775-85f7-5ddf6926e3b9",
   "metadata": {},
   "outputs": [
    {
     "data": {
      "text/plain": [
       "float"
      ]
     },
     "execution_count": 5,
     "metadata": {},
     "output_type": "execute_result"
    }
   ],
   "source": [
    "\n",
    "(i) string\n",
    "(ii) list\n",
    "(iii) list\n",
    "(iv) float"
   ]
  },
  {
   "cell_type": "markdown",
   "id": "cbc5f4e7-2472-42cc-8293-95766787db91",
   "metadata": {},
   "source": [
    "\"\"\"Q3. Explain the use of the following operators using an example:\n",
    "\n",
    "(i)\t/\n",
    "\n",
    "(ii)\t% \n",
    "\n",
    "(iii)\t//\n",
    "\n",
    "(iv)\t*\n",
    "\n",
    "\n",
    "\n",
    "(i) \"/\" is used to get the division of an operatands  including their decimal values\n",
    "(ii) \"%\" is used to get the reminder between the operatands\n",
    "(iii) \"//\" is used to get the division without the including the decimal values\n",
    "(iv) \"*\" is used the perform the multiplication between the operands\n",
    "\n"
   ]
  },
  {
   "cell_type": "code",
   "execution_count": 13,
   "id": "622989b4-65cc-4007-9a66-876ad2293ba5",
   "metadata": {},
   "outputs": [
    {
     "name": "stdout",
     "output_type": "stream",
     "text": [
      "1\n",
      "<class 'int'>\n",
      "2\n",
      "<class 'int'>\n",
      "3\n",
      "<class 'int'>\n",
      "4\n",
      "<class 'int'>\n",
      "5\n",
      "<class 'int'>\n",
      "pw\n",
      "<class 'str'>\n",
      "skills\n",
      "<class 'str'>\n",
      "True\n",
      "<class 'bool'>\n",
      "False\n",
      "<class 'bool'>\n",
      "(2+3j)\n",
      "<class 'complex'>\n"
     ]
    }
   ],
   "source": [
    "\"\"\"Q4. Create a list of length 10 of your choice containing multiple types of data. Using for loop print the \n",
    "element and its data type.\"\"\"\n",
    "l1=[1,2,3,4,5,\"pw\",\"skills\",True,False,2+3j]\n",
    "for i in l1:\n",
    "    print(i)\n",
    "    print(type(i))"
   ]
  },
  {
   "cell_type": "code",
   "execution_count": null,
   "id": "2d49c08a-d4d9-49fc-985c-18f92666030e",
   "metadata": {},
   "outputs": [],
   "source": [
    "\"\"\"Q5. Using a while loop, verify if the number A is purely divisible by number B and if so then how many \n",
    "times it can be divisible.\"\"\"\n",
    "a=int(input(\"enter no a\"))\n",
    "b=int(input(\"enter no b\"))\n",
    "c=0\n",
    "while a>0:\n",
    "    if a%b==0:\n",
    "        a=a/b\n",
    "        c+=1\n",
    "if c>0:\n",
    "    print(\"b is divisible by a \")\n",
    "    print(\"no of time \",c)\n",
    "else:\n",
    "    print(\"not divisible\")\n",
    "    "
   ]
  },
  {
   "cell_type": "code",
   "execution_count": null,
   "id": "09d864e4-d726-4882-9742-521c7bba1be3",
   "metadata": {},
   "outputs": [],
   "source": [
    "\"\"\"6. Create a list containing 25 int type data. Using for loop and if-else condition print if the element is \n",
    "divisible by 3 or not\"\"\"\n",
    "l=list(range(0,25))\n",
    "for i in l:\n",
    "    if i%3==0:\n",
    "        print(i,\"is divisible by 3\")\n",
    "        "
   ]
  },
  {
   "cell_type": "code",
   "execution_count": 9,
   "id": "10d71b76-3d35-46f3-a8f5-9647abb2057c",
   "metadata": {},
   "outputs": [
    {
     "data": {
      "text/plain": [
       "[1, 2, 9, 4]"
      ]
     },
     "execution_count": 9,
     "metadata": {},
     "output_type": "execute_result"
    }
   ],
   "source": [
    "\"\"\"Q7. What do you understand about mutable and immutable data types? Give examples for both showing\n",
    "this property.\"\"\"\n",
    "\"\"\"datatypes variables that can be modified or changed is called mutable data types and the data types  variable  which\n",
    "can't be modified or changed is called immutale data types\"\"\"\n",
    "# example for immutable\n",
    "\"\"\"s=\"\"\n",
    "s=\"pavan\"\n",
    "s[3]=\"n\" \"\"\"\n",
    "\n",
    "\n",
    "#example for mutable\n",
    "l=[1,2,3,4]\n",
    "l[2]=9\n",
    "l"
   ]
  },
  {
   "cell_type": "code",
   "execution_count": null,
   "id": "f676dd50-9bee-49d1-a9d3-267de97bd3c9",
   "metadata": {},
   "outputs": [],
   "source": []
  }
 ],
 "metadata": {
  "kernelspec": {
   "display_name": "Python 3 (ipykernel)",
   "language": "python",
   "name": "python3"
  },
  "language_info": {
   "codemirror_mode": {
    "name": "ipython",
    "version": 3
   },
   "file_extension": ".py",
   "mimetype": "text/x-python",
   "name": "python",
   "nbconvert_exporter": "python",
   "pygments_lexer": "ipython3",
   "version": "3.10.8"
  }
 },
 "nbformat": 4,
 "nbformat_minor": 5
}
