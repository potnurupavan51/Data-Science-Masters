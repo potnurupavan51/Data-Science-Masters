{
 "cells": [
  {
   "cell_type": "markdown",
   "id": "60f74050-d555-4b53-966e-0874e12876cf",
   "metadata": {},
   "source": [
    "## What is Flask Framework? What are the advantages of Flask Framework?"
   ]
  },
  {
   "cell_type": "markdown",
   "id": "ba8d525f-9650-497b-8c94-ac8535b95a76",
   "metadata": {},
   "source": [
    "Flast Framework used in python for developing web-applications or API's .\n",
    "These works in the server side to provide services to the client.\n",
    "Advantages:\n",
    "* It is powerful in webframe work\n",
    "* It is used to expose connect back-end and front-end as it stays in backend and works at front-end\n",
    "* It is light-weighted\n",
    "* faster debugging"
   ]
  },
  {
   "cell_type": "markdown",
   "id": "fcb684a1-790b-49f3-8b28-08d3f96413a4",
   "metadata": {},
   "source": [
    "## Q2. Create a simple Flask application to display ‘Hello World!!’. Attach the screenshot of the output in Jupyter Notebook."
   ]
  },
  {
   "cell_type": "code",
   "execution_count": null,
   "id": "6ed6c57b-7bf1-428b-9f35-e3c7dce64054",
   "metadata": {},
   "outputs": [
    {
     "name": "stdout",
     "output_type": "stream",
     "text": [
      " * Serving Flask app '__main__'\n",
      " * Debug mode: off\n"
     ]
    },
    {
     "name": "stderr",
     "output_type": "stream",
     "text": [
      "WARNING: This is a development server. Do not use it in a production deployment. Use a production WSGI server instead.\n",
      " * Running on all addresses (0.0.0.0)\n",
      " * Running on http://127.0.0.1:5000\n",
      " * Running on http://172.18.0.8:5000\n",
      "Press CTRL+C to quit\n"
     ]
    }
   ],
   "source": [
    "from flask import Flask\n",
    "from flask import request\n",
    "app = Flask(__name__)\n",
    "\n",
    "@app.route(\"/\")\n",
    "def hello_world():\n",
    "    return \"<h1>hello , world<h1>\"\n",
    "\n",
    "if __name__==\"__main__\":\n",
    "    app.run(host=\"0.0.0.0\")"
   ]
  },
  {
   "cell_type": "markdown",
   "id": "5715864e-60cb-48ba-a274-01ddf7e459cc",
   "metadata": {},
   "source": [
    "https://orange-translator-uqggc.pwskills.app/files/work/quesiton%202.png?_xsrf=2%7Cd6d3a1fd%7C5320d952a18c8e96219eb1cf5c8275e9%7C1705732092"
   ]
  },
  {
   "cell_type": "markdown",
   "id": "e2b08af8-2c8f-4ced-bed8-85b9bc93542e",
   "metadata": {},
   "source": [
    "## Q3. What is App routing in Flask? Why do we use app routes?"
   ]
  },
  {
   "cell_type": "markdown",
   "id": "172e35a5-5688-440f-b1cc-8d5dea0a04be",
   "metadata": {},
   "source": [
    "App routing is the way of establishing a route to reach out output.We may have different functions in one program but wants to execute only at a time , at that time using its correspong route or api we utilize it.\n",
    "The technique used to map the specific URL with the associated function intended to perform some task"
   ]
  },
  {
   "cell_type": "markdown",
   "id": "fcd270ec-c44d-4693-ab64-9442c428e26d",
   "metadata": {},
   "source": [
    "## Q4. Create a “/welcome” route to display the welcome message “Welcome to ABC Corporation” and a “/” \n",
    "route to show the following details:\n",
    "Company Name: ABC Corporation\n",
    "Location: India\n",
    "Contact Detail: 999-999-9999"
   ]
  },
  {
   "cell_type": "code",
   "execution_count": null,
   "id": "2624a110-fbe9-4f3d-b0ea-124af4a335df",
   "metadata": {},
   "outputs": [
    {
     "name": "stdout",
     "output_type": "stream",
     "text": [
      " * Serving Flask app '__main__'\n",
      " * Debug mode: off\n"
     ]
    },
    {
     "name": "stderr",
     "output_type": "stream",
     "text": [
      "WARNING: This is a development server. Do not use it in a production deployment. Use a production WSGI server instead.\n",
      " * Running on all addresses (0.0.0.0)\n",
      " * Running on http://127.0.0.1:5000\n",
      " * Running on http://172.18.0.8:5000\n",
      "Press CTRL+C to quit\n"
     ]
    }
   ],
   "source": [
    "from flask import Flask\n",
    "from flask import request\n",
    "\n",
    "app = Flask(__name__)\n",
    "\n",
    "@app.route(\"/\")\n",
    "def hello_world():\n",
    "    a=\":ABC Corporation\"\n",
    "    b=\":india\"\n",
    "    c=\":999-999-9999\"\n",
    "    return \"<h> Company Name {} <br> Location {} <br> Contact Detail {}  <h1>\".format(a,b,c)\n",
    "\n",
    "@app.route(\"/welcome\")\n",
    "def hello_world1():\n",
    "    return \"<h1> Welcome to ABC Corporation <h1>\"\n",
    "\n",
    "if __name__==\"__main__\":\n",
    "    app.run(host=\"0.0.0.0\")"
   ]
  },
  {
   "cell_type": "markdown",
   "id": "0f3647cd-8648-48a3-818f-d2ccaa581742",
   "metadata": {},
   "source": [
    "https://orange-translator-uqggc.pwskills.app/files/work/flask%203.png?_xsrf=2%7Cd6d3a1fd%7C5320d952a18c8e96219eb1cf5c8275e9%7C1705732092"
   ]
  },
  {
   "cell_type": "markdown",
   "id": "7ca1c38e-62f8-4cda-b3b1-777ed4d8bd86",
   "metadata": {},
   "source": [
    "https://orange-translator-uqggc.pwskills.app/files/work/flask%204.png?_xsrf=2%7Cd6d3a1fd%7C5320d952a18c8e96219eb1cf5c8275e9%7C1705732092"
   ]
  },
  {
   "cell_type": "markdown",
   "id": "3212fb48-656d-4a5f-b04c-25c27375da6e",
   "metadata": {},
   "source": [
    "## Q5. What function is used in Flask for URL Building? Write a Python code to demonstrate the working of the url_for() function."
   ]
  },
  {
   "cell_type": "markdown",
   "id": "acdc5d21-e074-4a10-91c0-7de9c6ae01bc",
   "metadata": {},
   "source": [
    "Function used in flask for url building is url_for() .\n",
    "The url_for() function generates the URL to a view based on a name and arguments. The name associated with a view is also called the endpoint, and by default it's the same as the name of the view function.\n"
   ]
  },
  {
   "cell_type": "code",
   "execution_count": 1,
   "id": "04fa122e-f197-4ccc-b5e4-18c5cbed3130",
   "metadata": {},
   "outputs": [
    {
     "name": "stdout",
     "output_type": "stream",
     "text": [
      "/\n",
      "/user/john_doe\n"
     ]
    }
   ],
   "source": [
    "from flask import Flask, url_for\n",
    "\n",
    "app = Flask(__name__)\n",
    "\n",
    "@app.route('/')\n",
    "def index():\n",
    "    return 'Hello, World!'\n",
    "\n",
    "@app.route('/user/<username>')\n",
    "def profile(username):\n",
    "    return f'Hello, {username}!'\n",
    "\n",
    "if __name__ == '__main__':\n",
    "    with app.test_request_context():\n",
    "        # Generate URLs using url_for()\n",
    "        print(url_for('index'))\n",
    "        print(url_for('profile', username='john_doe'))"
   ]
  },
  {
   "cell_type": "code",
   "execution_count": null,
   "id": "19f27f09-abab-4d8a-91ff-6a4f340afe30",
   "metadata": {},
   "outputs": [],
   "source": []
  }
 ],
 "metadata": {
  "kernelspec": {
   "display_name": "Python 3 (ipykernel)",
   "language": "python",
   "name": "python3"
  },
  "language_info": {
   "codemirror_mode": {
    "name": "ipython",
    "version": 3
   },
   "file_extension": ".py",
   "mimetype": "text/x-python",
   "name": "python",
   "nbconvert_exporter": "python",
   "pygments_lexer": "ipython3",
   "version": "3.10.8"
  }
 },
 "nbformat": 4,
 "nbformat_minor": 5
}
