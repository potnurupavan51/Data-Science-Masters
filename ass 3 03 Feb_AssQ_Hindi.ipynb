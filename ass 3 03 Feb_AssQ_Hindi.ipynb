{
 "cells": [
  {
   "cell_type": "markdown",
   "id": "94bb0313-f1a4-4743-93ca-5ecf323ce114",
   "metadata": {},
   "source": [
    "#### Q1. Which keyword is used to create a function? Create a function to return a list of odd numbers in the range of 1 to 25."
   ]
  },
  {
   "cell_type": "markdown",
   "id": "3b479f09-ed8b-4c14-bcd2-c83386c418e3",
   "metadata": {},
   "source": [
    "\" def \" is used as a keyword to create a function. "
   ]
  },
  {
   "cell_type": "code",
   "execution_count": 4,
   "id": "3d104662-e3ad-4b8f-b191-25bef7ad6001",
   "metadata": {},
   "outputs": [
    {
     "name": "stdout",
     "output_type": "stream",
     "text": [
      "[1, 3, 5, 7, 9, 11, 13, 15, 17, 19, 21, 23, 25, 27, 29, 31, 33, 35, 37, 39, 41, 43, 45, 47, 49]\n",
      "25\n"
     ]
    }
   ],
   "source": [
    "def odd25():\n",
    "    l=[]\n",
    "    for i in range(1,50):\n",
    "        if i%2==1:\n",
    "            l.append(i)\n",
    "    return l\n",
    "l1=odd25()\n",
    "print(l1)\n",
    "print(len(l1))"
   ]
  },
  {
   "cell_type": "markdown",
   "id": "4112d450-9c08-467c-bff0-ad27cbf60d69",
   "metadata": {},
   "source": [
    "#### Q2. Why *args and **kwargs is used in some functions? Create a function each for *args and **kwargs to demonstrate their use."
   ]
  },
  {
   "cell_type": "markdown",
   "id": "c768a52e-2f0d-4935-8e42-00e64abae96e",
   "metadata": {},
   "source": [
    "when we want to take n number of arguments with single parameter we use this \"*args\". the previlage is that even without knowing the no of arguements passing we can create a function to it.\n",
    "\"**kwargs\" is also same like a \"*args\" but here , it will take the elements pair like key and value. here , we need to assign the value to the varible or key to access them in the function."
   ]
  },
  {
   "cell_type": "code",
   "execution_count": 10,
   "id": "7fec4f54-d147-467e-a44a-c91ad12ee07a",
   "metadata": {},
   "outputs": [
    {
     "name": "stdout",
     "output_type": "stream",
     "text": [
      "1\n",
      "2\n",
      "3\n",
      "4\n",
      "pwskills\n",
      "\n",
      " \n",
      "\n",
      "a : pw\n",
      "b : skills\n"
     ]
    }
   ],
   "source": [
    "def test(*args):\n",
    "    for i in args:\n",
    "        print(i)\n",
    "test(1,2,3,4,\"pwskills\")\n",
    "print(\"\\n \\n\")\n",
    "def test1(**kwargs):\n",
    "    for key,value in kwargs.items():\n",
    "        print(key,\":\",value)\n",
    "test1(a=\"pw\",b=\"skills\")"
   ]
  },
  {
   "cell_type": "markdown",
   "id": "6620a1af-7c9d-40e1-99d9-9ee793b2518c",
   "metadata": {},
   "source": [
    "#### Q3. What is an iterator in python? Name the method used to initialise the iterator object and the method used for iteration. Use these methods to print the first five elements of the given list [2, 4, 6, 8, 10, 12, 14, 16, 18, 20]."
   ]
  },
  {
   "cell_type": "markdown",
   "id": "c28393b6-e85b-4053-8f64-87e62cf5cc42",
   "metadata": {},
   "source": [
    "Iterator is a object used to represent the sequence of data. It is little bit similar like loops .Here we use \"iter()\" for making the variable into the iterator. we can assess the elements in iteratore using the \"next(iter_varibable)\"."
   ]
  },
  {
   "cell_type": "code",
   "execution_count": 11,
   "id": "c384b971-90ad-4346-8250-49ad4fd7f932",
   "metadata": {},
   "outputs": [
    {
     "name": "stdout",
     "output_type": "stream",
     "text": [
      "2\n",
      "4\n",
      "6\n",
      "8\n",
      "10\n"
     ]
    }
   ],
   "source": [
    "l=[2, 4, 6, 8, 10, 12, 14, 16, 18, 20]\n",
    "l1=iter(l)\n",
    "for i in range(0,5):\n",
    "    print(next(l1))"
   ]
  },
  {
   "cell_type": "markdown",
   "id": "39d189e8-dbe5-4fd5-ae79-af306cf685fc",
   "metadata": {},
   "source": [
    "#### Q4. What is a generator function in python? Why yield keyword is used? Give an example of a generator function."
   ]
  },
  {
   "cell_type": "markdown",
   "id": "9ce4de5b-e0e7-48a3-b3a2-fd7ca9a365a6",
   "metadata": {},
   "source": [
    "Generator function is a special type of function in python. It generates the no of outputs using the keyword \"yield()\"  and throws the output. It wont store the previous output after yielding the one output. It is used when we are dealing with the large datasets, where it dont contains its previous output it won't need that much memory as compared to the function at the sametime.\n"
   ]
  },
  {
   "cell_type": "code",
   "execution_count": 14,
   "id": "6689849d-e1ee-427d-b916-c75fb47c360b",
   "metadata": {},
   "outputs": [
    {
     "name": "stdout",
     "output_type": "stream",
     "text": [
      "0\n",
      "2\n",
      "4\n",
      "6\n",
      "8\n"
     ]
    }
   ],
   "source": [
    "def test1():\n",
    "    for i in range(0,10):\n",
    "        if i%2==0:\n",
    "            yield i\n",
    "for j in test1():\n",
    "    print(j)"
   ]
  },
  {
   "cell_type": "markdown",
   "id": "4f810352-a380-475d-b9b1-3ab16e21fba8",
   "metadata": {},
   "source": [
    "#### Q5. Create a generator function for prime numbers less than 1000. Use the next() method to print the first 20 prime numbers."
   ]
  },
  {
   "cell_type": "code",
   "execution_count": 22,
   "id": "28c32cd2-3265-49c5-97c8-bbd3a943375f",
   "metadata": {},
   "outputs": [
    {
     "name": "stdout",
     "output_type": "stream",
     "text": [
      "3\n",
      "4\n",
      "5\n",
      "7\n",
      "11\n",
      "13\n",
      "17\n",
      "19\n",
      "23\n",
      "29\n",
      "31\n",
      "37\n",
      "41\n",
      "43\n",
      "47\n",
      "53\n",
      "59\n",
      "61\n",
      "67\n",
      "71\n"
     ]
    }
   ],
   "source": [
    "def gen():\n",
    "    for i in range(3,1001):\n",
    "        c=0\n",
    "        for j in range(2,(i//2)):\n",
    "            if i%j==0:\n",
    "                c+=1\n",
    "        if c==0:\n",
    "            yield i\n",
    "l=gen()\n",
    "l1=iter(l)\n",
    "for m in range(0,20):\n",
    "    print(next(l1))\n",
    "    "
   ]
  },
  {
   "cell_type": "markdown",
   "id": "16a8b6f1-1ca2-4467-9055-e66d0255ce32",
   "metadata": {},
   "source": [
    "#### Q6. Write a python program to print the first 10 Fibonacci numbers using a while loop."
   ]
  },
  {
   "cell_type": "code",
   "execution_count": 5,
   "id": "4dc50eef-536b-4a31-af03-a0c058ef05fc",
   "metadata": {},
   "outputs": [
    {
     "name": "stdout",
     "output_type": "stream",
     "text": [
      "0\n",
      "1\n",
      "1\n",
      "2\n",
      "3\n",
      "5\n",
      "8\n",
      "13\n",
      "21\n",
      "34\n"
     ]
    }
   ],
   "source": [
    "a,b=0,1\n",
    "c=10\n",
    "while c>0:\n",
    "    print(a)\n",
    "    f=a+b\n",
    "    a,b=b,a+b\n",
    "    c-=1"
   ]
  },
  {
   "cell_type": "markdown",
   "id": "df783aa8-5bb1-4a89-9edc-9e30522c2ca6",
   "metadata": {},
   "source": [
    "#### Q7. Write a List Comprehension to iterate through the given string: ‘pwskills’.\n",
    "Expected output: ['p', 'w', 's', 'k', 'i', 'l', 'l', 's']"
   ]
  },
  {
   "cell_type": "code",
   "execution_count": 7,
   "id": "0fcea218-59d3-40b6-80d2-3cde4e9fe230",
   "metadata": {},
   "outputs": [
    {
     "name": "stdout",
     "output_type": "stream",
     "text": [
      "['p', 'w', 's', 'k', 'i', 'l', 'l', 's']\n"
     ]
    }
   ],
   "source": [
    "s=\"pwskills\"\n",
    "l=[]\n",
    "for i in s:\n",
    "    l.append(i)\n",
    "print(l)"
   ]
  },
  {
   "cell_type": "markdown",
   "id": "e493fa17-6c93-4bb6-b36b-39000aefc0e2",
   "metadata": {},
   "source": [
    "#### Q8. Write a python program to check whether a given number is Palindrome or not using a while loop."
   ]
  },
  {
   "cell_type": "code",
   "execution_count": 13,
   "id": "76c94673-0d04-4750-b866-ee020065192c",
   "metadata": {},
   "outputs": [
    {
     "name": "stdout",
     "output_type": "stream",
     "text": [
      "pelindrome\n"
     ]
    }
   ],
   "source": [
    "n=202\n",
    "n1=n\n",
    "rev=0\n",
    "t=0\n",
    "while n>0:\n",
    "    t=n%10\n",
    "    rev=rev*10+t\n",
    "    n=n//10\n",
    "if int(n1)==int(rev):\n",
    "    print(\"pelindrome\")\n",
    "else:\n",
    "    print(\"not\")"
   ]
  },
  {
   "cell_type": "markdown",
   "id": "5123cb62-d753-4768-b41a-287faa2bd709",
   "metadata": {},
   "source": [
    "#### Q9. Write a code to print odd numbers from 1 to 100 using list comprehension."
   ]
  },
  {
   "cell_type": "code",
   "execution_count": 17,
   "id": "392db37b-d22f-4fab-8785-57413e01679a",
   "metadata": {},
   "outputs": [
    {
     "name": "stdout",
     "output_type": "stream",
     "text": [
      "[1, 3, 5, 7, 9, 11, 13, 15, 17, 19, 21, 23, 25, 27, 29, 31, 33, 35, 37, 39, 41, 43, 45, 47, 49, 51, 53, 55, 57, 59, 61, 63, 65, 67, 69, 71, 73, 75, 77, 79, 81, 83, 85, 87, 89, 91, 93, 95, 97, 99]\n"
     ]
    }
   ],
   "source": [
    "l=list(range(1,101))\n",
    "l1=[]\n",
    "for i in l:\n",
    "       if i%2==1:\n",
    "           l1.append(i)\n",
    "print(l1)"
   ]
  },
  {
   "cell_type": "code",
   "execution_count": null,
   "id": "30346c57-74af-4831-a29f-250c4b444546",
   "metadata": {},
   "outputs": [],
   "source": []
  }
 ],
 "metadata": {
  "kernelspec": {
   "display_name": "Python 3 (ipykernel)",
   "language": "python",
   "name": "python3"
  },
  "language_info": {
   "codemirror_mode": {
    "name": "ipython",
    "version": 3
   },
   "file_extension": ".py",
   "mimetype": "text/x-python",
   "name": "python",
   "nbconvert_exporter": "python",
   "pygments_lexer": "ipython3",
   "version": "3.10.8"
  }
 },
 "nbformat": 4,
 "nbformat_minor": 5
}
