{
 "cells": [
  {
   "cell_type": "markdown",
   "id": "ebac7546-e9d4-4c8e-b0d5-745dd30efa0f",
   "metadata": {},
   "source": [
    "#### Q1, Create a vehicle class with an init method having instance variables as name_of_vehicle, max_speed and average_of_vehicle."
   ]
  },
  {
   "cell_type": "code",
   "execution_count": 5,
   "id": "7f8a0d51-52a0-4045-8b9b-af00d2278224",
   "metadata": {},
   "outputs": [
    {
     "name": "stdout",
     "output_type": "stream",
     "text": [
      "dzire 200 50\n"
     ]
    }
   ],
   "source": [
    "class vehicle:\n",
    "    def __init__(self,name_of_vehicle, max_speed,average_of_vehicle):\n",
    "        self.name_of_vehicle=name_of_vehicle\n",
    "        self.max_speed=max_speed\n",
    "        self.average_of_vehicle=average_of_vehicle\n",
    "c=vehicle(\"dzire\",200,50)\n",
    "print(c.name_of_vehicle, c.max_speed,c.average_of_vehicle)\n",
    "        "
   ]
  },
  {
   "cell_type": "markdown",
   "id": "dc487bc1-4a7c-4bd4-976d-3eb33548f3b6",
   "metadata": {},
   "source": [
    "#### Q2. Create a child class car from the vehicle class created in Que 1, which will inherit the vehicle class. Create a method named seating_capacity which takes capacity as an argument and returns the name of the vehicle and its seating capacity."
   ]
  },
  {
   "cell_type": "code",
   "execution_count": 7,
   "id": "ecff9cb9-420f-4188-b1d7-16f9c39de8e1",
   "metadata": {},
   "outputs": [
    {
     "name": "stdout",
     "output_type": "stream",
     "text": [
      "('dzire', 5)\n"
     ]
    }
   ],
   "source": [
    "class vehicle:\n",
    "    def __init__(self,name_of_vehicle, max_speed,average_of_vehicle):\n",
    "        self.name_of_vehicle=name_of_vehicle\n",
    "        self.max_speed=max_speed\n",
    "        self.average_of_vehicle=average_of_vehicle\n",
    "class car(vehicle):\n",
    "    def seating_capacity(self,capacity):\n",
    "        self.capacity=capacity\n",
    "        return self.name_of_vehicle,self.capacity\n",
    "c=car(\"dzire\",200,50)\n",
    "print(c.seating_capacity(5))\n"
   ]
  },
  {
   "cell_type": "markdown",
   "id": "98fd4c8a-68ad-41dd-990b-46d678246ed3",
   "metadata": {},
   "source": [
    "#### Q3. What is multiple inheritance? Write a python code to demonstrate multiple inheritance."
   ]
  },
  {
   "cell_type": "markdown",
   "id": "88665c5d-61ad-4e00-9d71-e4c6a2f79e16",
   "metadata": {},
   "source": [
    "Multiple inheritance is the techinique in oops concept that is used to share the properties of a one or more class to the another single class.\n",
    "The final base class can have the properties of all parent class and its own classes."
   ]
  },
  {
   "cell_type": "code",
   "execution_count": 11,
   "id": "4f5d44ec-6b5d-42e3-9d08-d1914454ef69",
   "metadata": {},
   "outputs": [
    {
     "name": "stdout",
     "output_type": "stream",
     "text": [
      "this is first class\n",
      "This is second class\n",
      "this is child class\n"
     ]
    }
   ],
   "source": [
    "class A:\n",
    "    def A1(self):\n",
    "        print(\"this is first class\")\n",
    "class B:\n",
    "    def B1(self):\n",
    "        print(\"This is second class\")\n",
    "class C(A,B):\n",
    "    def C1(self):\n",
    "        print(\"this is child class\")\n",
    "c=C()\n",
    "c.A1()\n",
    "c.B1()\n",
    "c.C1()"
   ]
  },
  {
   "cell_type": "markdown",
   "id": "fb2b4f57-ad4b-4e14-a46d-c966b48b31a1",
   "metadata": {},
   "source": [
    "#### Q4. What are getter and setter in python? Create a class and create a getter and a setter method in this class."
   ]
  },
  {
   "cell_type": "markdown",
   "id": "284a7a11-5b47-46ab-ab20-6bda4bf375c2",
   "metadata": {},
   "source": [
    "Getter and Setter in python is used to set the values to the variables basically these are used to allow the user to assign the values to the variables. When there is a lots of variable but some must not be assigned by user but some need to be assigned by user at that time the variables that are not allowed to user are encapsulated and remaining will be setted and getted by the user through the methods."
   ]
  },
  {
   "cell_type": "code",
   "execution_count": 22,
   "id": "f8ce0c4c-f20a-4985-b9bd-1071a4bbfa95",
   "metadata": {},
   "outputs": [
    {
     "name": "stdout",
     "output_type": "stream",
     "text": [
      "20\n"
     ]
    },
    {
     "data": {
      "text/plain": [
       "200"
      ]
     },
     "execution_count": 22,
     "metadata": {},
     "output_type": "execute_result"
    }
   ],
   "source": [
    "class vehicle:\n",
    "    def car(self,name,speed):\n",
    "        self.speed=0 if speed<0 else speed\n",
    "        self.name=name\n",
    "    def set_speed(self,speed):\n",
    "        self.speed=speed\n",
    "    def get_speed(self):\n",
    "        return self.speed\n",
    "c=vehicle()\n",
    "c.car(\"arena\",20)\n",
    "print(c.get_speed())\n",
    "c.set_speed(200)\n",
    "c.get_speed()"
   ]
  },
  {
   "cell_type": "markdown",
   "id": "645b1067-d562-4e3f-8cf0-fe0cdde510e6",
   "metadata": {},
   "source": [
    "#### Q5.What is method overriding in python? Write a python code to demonstrate method overriding."
   ]
  },
  {
   "cell_type": "markdown",
   "id": "07ce2662-e899-4ca6-9b68-03141a6d594b",
   "metadata": {},
   "source": [
    "Method overriding is concept that occurs between two class when we have a method with same name in both the classes with same positional parameters.\n",
    "It is also used in abstract classes to override the methods at normal class.Which helps the one to make the idea of an concept and develop it later."
   ]
  },
  {
   "cell_type": "code",
   "execution_count": 24,
   "id": "18b0f560-e0c8-4324-ba0c-38ff98d36ba3",
   "metadata": {},
   "outputs": [
    {
     "name": "stdout",
     "output_type": "stream",
     "text": [
      "pwskills2\n"
     ]
    }
   ],
   "source": [
    "class A:\n",
    "    def method1(self):\n",
    "        print(\"pwskills1\")\n",
    "class B(A):\n",
    "    def method1(self):\n",
    "        print(\"pwskills2\")\n",
    "obj=B()\n",
    "obj.method1()"
   ]
  },
  {
   "cell_type": "code",
   "execution_count": null,
   "id": "4c8bb27e-20f7-4eb8-b760-f513b9625863",
   "metadata": {},
   "outputs": [],
   "source": []
  }
 ],
 "metadata": {
  "kernelspec": {
   "display_name": "Python 3 (ipykernel)",
   "language": "python",
   "name": "python3"
  },
  "language_info": {
   "codemirror_mode": {
    "name": "ipython",
    "version": 3
   },
   "file_extension": ".py",
   "mimetype": "text/x-python",
   "name": "python",
   "nbconvert_exporter": "python",
   "pygments_lexer": "ipython3",
   "version": "3.10.8"
  }
 },
 "nbformat": 4,
 "nbformat_minor": 5
}
