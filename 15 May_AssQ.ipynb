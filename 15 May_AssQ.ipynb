{
 "cells": [
  {
   "cell_type": "markdown",
   "id": "bb58fab9-1120-48f3-92fa-8608031f9478",
   "metadata": {},
   "source": [
    "#### Q1. How do you comment code in Python? What are the different types of comments?\n"
   ]
  },
  {
   "cell_type": "markdown",
   "id": "0404200a-e39a-4f9d-b7d1-cc039acea5fe",
   "metadata": {},
   "source": [
    "comments in python can be used using the symbol at starting or ending of comment of code else using symbols at both starting and ending.single line comment can be achived using the symbol \"#\" ex:#,\"\"\" \"\"\",''' '''."
   ]
  },
  {
   "cell_type": "code",
   "execution_count": 1,
   "id": "305ad04f-42fc-4529-8a7f-7aaabf27b5df",
   "metadata": {},
   "outputs": [
    {
     "name": "stdout",
     "output_type": "stream",
     "text": [
      "it is single line comment\n",
      "multi line comment achieved\n",
      "multi line comment another way\n"
     ]
    }
   ],
   "source": [
    "#python program\n",
    "print(\" it is single line comment\")\n",
    "\n",
    "\"\"\" this is \n",
    "multi line c\n",
    "omment\"\"\"\n",
    "\n",
    "print(\"multi line comment achieved\")\n",
    "''' another way to achieve multiline \n",
    "comment'''\n",
    "print(\"multi line comment another way\")\n",
    "\n"
   ]
  },
  {
   "cell_type": "markdown",
   "id": "a5937ee6-34d3-4571-b419-21023cf58244",
   "metadata": {},
   "source": [
    "#### 2Q. What are variables in Python? How do you declare and assign values to variables?"
   ]
  },
  {
   "cell_type": "markdown",
   "id": "1d6e6b97-74ba-4003-8c67-32ac6cb002e8",
   "metadata": {},
   "source": [
    "varible in python are containers of the values or characers or things that will store the data that was inputed by the user.In python we dont need to declare a data type for the variable , as they automatically assigned by the complier by their assigned value type. That variables can be manipulated in the code as a values.\n",
    "we can directly declare the values to the variable.\n",
    "varible in python are like: string, list,int,float,tuple,set etc\n",
    "\n"
   ]
  },
  {
   "cell_type": "code",
   "execution_count": 19,
   "id": "2231049e-1497-43e7-b820-f3831ec017db",
   "metadata": {},
   "outputs": [
    {
     "name": "stdout",
     "output_type": "stream",
     "text": [
      "<class 'str'>\n",
      "<class 'int'>\n",
      "<class 'float'>\n"
     ]
    },
    {
     "data": {
      "text/plain": [
       "list"
      ]
     },
     "execution_count": 19,
     "metadata": {},
     "output_type": "execute_result"
    }
   ],
   "source": [
    "#example:\n",
    "s=\"pavan\"\n",
    "print(type(s))\n",
    "i=4\n",
    "f=1.0\n",
    "print(type(i))\n",
    "print(type(f))\n",
    "l=[]\n",
    "type(l)"
   ]
  },
  {
   "cell_type": "markdown",
   "id": "ba486d0d-b964-46f3-9546-43c02ece2763",
   "metadata": {},
   "source": [
    "#### Q3. How do you convert one data type to another in Python?"
   ]
  },
  {
   "cell_type": "code",
   "execution_count": 13,
   "id": "085149fc-9d22-40c6-bd3c-634477578e9f",
   "metadata": {},
   "outputs": [
    {
     "name": "stdout",
     "output_type": "stream",
     "text": [
      "<class 'int'>\n",
      "1.0\n"
     ]
    },
    {
     "data": {
      "text/plain": [
       "float"
      ]
     },
     "execution_count": 13,
     "metadata": {},
     "output_type": "execute_result"
    }
   ],
   "source": [
    "a=1\n",
    "print(type(a))\n",
    "a=float(a)\n",
    "print(a)\n",
    "type(a)"
   ]
  },
  {
   "cell_type": "markdown",
   "id": "ea70d302-9542-4007-a7b1-71aab279493a",
   "metadata": {},
   "source": [
    "#### Q4. How do you write and execute a Python script from the command line?"
   ]
  },
  {
   "cell_type": "markdown",
   "id": "8ab56730-6a95-4c14-bf83-1d20a234aefb",
   "metadata": {},
   "source": [
    "using commend line we will create one directory and create one file to store the code and we will be using extentsion \".py\"  for that file . After that,using commend line python3 file_name.py we wil execute the file.\n",
    "ex: mkdir dir_name\n",
    "    cd dir_name\n",
    "    gedit file.py\n",
    "    we will write code\n",
    "    execute : python3 file.py"
   ]
  },
  {
   "cell_type": "markdown",
   "id": "f1a00630-f8ea-4796-bf5a-dbbab9762688",
   "metadata": {},
   "source": [
    "#### 5. Given a list my_list = [1, 2, 3, 4, 5], write the code to slice the list and obtain the sub-list [2, 3]."
   ]
  },
  {
   "cell_type": "code",
   "execution_count": 18,
   "id": "c1942c38-2c96-4ff4-bc07-7011dbfba52c",
   "metadata": {},
   "outputs": [
    {
     "name": "stdout",
     "output_type": "stream",
     "text": [
      "[2, 3]\n"
     ]
    }
   ],
   "source": [
    "my_list=[1,2,3,4,5]\n",
    "new_list=my_list[1:3]\n",
    "print(new_list)"
   ]
  },
  {
   "cell_type": "markdown",
   "id": "815a421d-a5f0-4bff-b706-218e37f0cb86",
   "metadata": {},
   "source": [
    "#### Q6. What is a complex number in mathematics, and how is it represented in Python?"
   ]
  },
  {
   "cell_type": "markdown",
   "id": "0f019c23-3de9-42f8-8994-7ed70e7d20be",
   "metadata": {},
   "source": [
    "complex number in mathermatics is the type of combination of real and imaginary values.that can be expresssed in the form a+bi, where a,b are values and the \"i\" is imaginary representation. But in python we use \"j\" in place of \"i\" to access the complex numbers"
   ]
  },
  {
   "cell_type": "code",
   "execution_count": 20,
   "id": "c448c856-41cc-4e48-882b-b9d3e29cdc2d",
   "metadata": {},
   "outputs": [
    {
     "name": "stdout",
     "output_type": "stream",
     "text": [
      "(11+3j)\n"
     ]
    }
   ],
   "source": [
    "#example:\n",
    "z=2+3j\n",
    "z1=9+0j\n",
    "print(z+z1)"
   ]
  },
  {
   "cell_type": "markdown",
   "id": "8c6064f2-c034-44e8-9d58-d6be71a9ea2c",
   "metadata": {},
   "source": [
    "#### Q7. What is the correct way to declare a variable named age and assign the value 25 to it?"
   ]
  },
  {
   "cell_type": "code",
   "execution_count": 21,
   "id": "da7be7e3-6252-429a-9f87-fae0075a77c1",
   "metadata": {},
   "outputs": [
    {
     "name": "stdout",
     "output_type": "stream",
     "text": [
      "the age is 25\n"
     ]
    }
   ],
   "source": [
    "age=25\n",
    "print(\"the age is\",age)"
   ]
  },
  {
   "cell_type": "markdown",
   "id": "00609890-e060-43e7-85c0-b139cbc7bf5a",
   "metadata": {},
   "source": [
    "#### Q8. Declare a variable named price and assign the value 9.99 to it. What data type does this variable belong to?"
   ]
  },
  {
   "cell_type": "code",
   "execution_count": 22,
   "id": "aeffc95d-e9a5-432e-ae79-29ba7b1ca999",
   "metadata": {},
   "outputs": [
    {
     "name": "stdout",
     "output_type": "stream",
     "text": [
      "<class 'float'>\n"
     ]
    }
   ],
   "source": [
    "price=9.99\n",
    "print(type(price))"
   ]
  },
  {
   "cell_type": "markdown",
   "id": "637f95d1-bee9-4226-a9d6-ad17d8854b06",
   "metadata": {},
   "source": [
    "#### Q9. Create a variable named name and assign your full name to it as a string. How would you print the alue of this variable?"
   ]
  },
  {
   "cell_type": "code",
   "execution_count": 23,
   "id": "622385e0-4469-4478-b812-bb298fa1a689",
   "metadata": {},
   "outputs": [
    {
     "name": "stdout",
     "output_type": "stream",
     "text": [
      "POTNURU PAVAN KUMAR\n"
     ]
    }
   ],
   "source": [
    "name=\"POTNURU PAVAN KUMAR\"\n",
    "print(name)"
   ]
  },
  {
   "cell_type": "markdown",
   "id": "3c519ed2-e761-4547-a19b-7d9be2cbe4ea",
   "metadata": {},
   "source": [
    "#### Q10. Given the string \"Hello, World!\", extract the substring \"World\"."
   ]
  },
  {
   "cell_type": "code",
   "execution_count": 25,
   "id": "b052fab5-c200-4227-b164-124a5430b6e9",
   "metadata": {},
   "outputs": [
    {
     "name": "stdout",
     "output_type": "stream",
     "text": [
      " World\n"
     ]
    }
   ],
   "source": [
    "s=\"Hello, World!\"\n",
    "print(s[6:12])"
   ]
  },
  {
   "cell_type": "markdown",
   "id": "fcb8dbfd-e4db-4243-b5f6-adc7f42dafbf",
   "metadata": {},
   "source": [
    "#### Q11. Create a variable named \"is_student\" and assign it a boolean value indicating whether you are currently a student or not."
   ]
  },
  {
   "cell_type": "code",
   "execution_count": null,
   "id": "065ecffc-c5d8-4663-aa73-67555714e10a",
   "metadata": {},
   "outputs": [],
   "source": [
    "is_student=True\n",
    "if is_student:\n",
    "    print(\"im a stu"
   ]
  }
 ],
 "metadata": {
  "kernelspec": {
   "display_name": "Python 3 (ipykernel)",
   "language": "python",
   "name": "python3"
  },
  "language_info": {
   "codemirror_mode": {
    "name": "ipython",
    "version": 3
   },
   "file_extension": ".py",
   "mimetype": "text/x-python",
   "name": "python",
   "nbconvert_exporter": "python",
   "pygments_lexer": "ipython3",
   "version": "3.10.8"
  }
 },
 "nbformat": 4,
 "nbformat_minor": 5
}
